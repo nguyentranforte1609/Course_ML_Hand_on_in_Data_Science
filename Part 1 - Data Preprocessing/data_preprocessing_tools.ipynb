{
 "cells": [
  {
   "cell_type": "markdown",
   "metadata": {
    "colab_type": "text",
    "id": "37puETfgRzzg"
   },
   "source": [
    "# Data Preprocessing Tools"
   ]
  },
  {
   "cell_type": "markdown",
   "metadata": {
    "colab_type": "text",
    "id": "EoRP98MpR-qj"
   },
   "source": [
    "## Importing the libraries"
   ]
  },
  {
   "cell_type": "code",
   "execution_count": 2,
   "metadata": {},
   "outputs": [
    {
     "data": {
      "text/html": [
       "<style type=\"text/css\">/*-----------------------------------------------------------------------------\n",
       "| Copyright (c) Jupyter Development Team.\n",
       "| Distributed under the terms of the Modified BSD License.\n",
       "|----------------------------------------------------------------------------*/\n",
       "\n",
       "/*\n",
       "The following CSS variables define the main, public API for styling JupyterLab.\n",
       "These variables should be used by all plugins wherever possible. In other\n",
       "words, plugins should not define custom colors, sizes, etc unless absolutely\n",
       "necessary. This enables users to change the visual theme of JupyterLab\n",
       "by changing these variables.\n",
       "Many variables appear in an ordered sequence (0,1,2,3). These sequences\n",
       "are designed to work well together, so for example, `--jp-border-color1` should\n",
       "be used with `--jp-layout-color1`. The numbers have the following meanings:\n",
       "* 0: super-primary, reserved for special emphasis\n",
       "* 1: primary, most important under normal situations\n",
       "* 2: secondary, next most important under normal situations\n",
       "* 3: tertiary, next most important under normal situations\n",
       "Throughout JupyterLab, we are mostly following principles from Google's\n",
       "Material Design when selecting colors. We are not, however, following\n",
       "all of MD as it is not optimized for dense, information rich UIs.\n",
       "*/\n",
       "\n",
       ":root {\n",
       "    /* Elevation\n",
       "     *\n",
       "     * We style box-shadows using Material Design's idea of elevation. These particular numbers are taken from here:\n",
       "     *\n",
       "     * https://github.com/material-components/material-components-web\n",
       "     * https://material-components-web.appspot.com/elevation.html\n",
       "     */\n",
       "  \n",
       "    /* The dark theme shadows need a bit of work, but this will probably also require work on the core layout\n",
       "     * colors used in the theme as well. */\n",
       "    --jp-shadow-base-lightness: 32!important;\n",
       "    --jp-shadow-umbra-color: rgba(\n",
       "      var(--jp-shadow-base-lightness),\n",
       "      var(--jp-shadow-base-lightness),\n",
       "      var(--jp-shadow-base-lightness),\n",
       "      0.2\n",
       "    )!important;\n",
       "    --jp-shadow-penumbra-color: rgba(\n",
       "      var(--jp-shadow-base-lightness),\n",
       "      var(--jp-shadow-base-lightness),\n",
       "      var(--jp-shadow-base-lightness),\n",
       "      0.14\n",
       "    )!important;\n",
       "    --jp-shadow-ambient-color: rgba(\n",
       "      var(--jp-shadow-base-lightness),\n",
       "      var(--jp-shadow-base-lightness),\n",
       "      var(--jp-shadow-base-lightness),\n",
       "      0.12\n",
       "    )!important;\n",
       "    --jp-elevation-z0: none!important;\n",
       "    --jp-elevation-z1: 0px 2px 1px -1px var(--jp-shadow-umbra-color),\n",
       "      0px 1px 1px 0px var(--jp-shadow-penumbra-color),\n",
       "      0px 1px 3px 0px var(--jp-shadow-ambient-color)!important;\n",
       "    --jp-elevation-z2: 0px 3px 1px -2px var(--jp-shadow-umbra-color),\n",
       "      0px 2px 2px 0px var(--jp-shadow-penumbra-color),\n",
       "      0px 1px 5px 0px var(--jp-shadow-ambient-color)!important;\n",
       "    --jp-elevation-z4: 0px 2px 4px -1px var(--jp-shadow-umbra-color),\n",
       "      0px 4px 5px 0px var(--jp-shadow-penumbra-color),\n",
       "      0px 1px 10px 0px var(--jp-shadow-ambient-color)!important;\n",
       "    --jp-elevation-z6: 0px 3px 5px -1px var(--jp-shadow-umbra-color),\n",
       "      0px 6px 10px 0px var(--jp-shadow-penumbra-color),\n",
       "      0px 1px 18px 0px var(--jp-shadow-ambient-color)!important;\n",
       "    --jp-elevation-z8: 0px 5px 5px -3px var(--jp-shadow-umbra-color),\n",
       "      0px 8px 10px 1px var(--jp-shadow-penumbra-color),\n",
       "      0px 3px 14px 2px var(--jp-shadow-ambient-color)!important;\n",
       "    --jp-elevation-z12: 0px 7px 8px -4px var(--jp-shadow-umbra-color),\n",
       "      0px 12px 17px 2px var(--jp-shadow-penumbra-color),\n",
       "      0px 5px 22px 4px var(--jp-shadow-ambient-color)!important;\n",
       "    --jp-elevation-z16: 0px 8px 10px -5px var(--jp-shadow-umbra-color),\n",
       "      0px 16px 24px 2px var(--jp-shadow-penumbra-color),\n",
       "      0px 6px 30px 5px var(--jp-shadow-ambient-color)!important;\n",
       "    --jp-elevation-z20: 0px 10px 13px -6px var(--jp-shadow-umbra-color),\n",
       "      0px 20px 31px 3px var(--jp-shadow-penumbra-color),\n",
       "      0px 8px 38px 7px var(--jp-shadow-ambient-color)!important;\n",
       "    --jp-elevation-z24: 0px 11px 15px -7px var(--jp-shadow-umbra-color),\n",
       "      0px 24px 38px 3px var(--jp-shadow-penumbra-color),\n",
       "      0px 9px 46px 8px var(--jp-shadow-ambient-color)!important;\n",
       "  \n",
       "    /* Borders\n",
       "     *\n",
       "     * The following variables, specify the visual styling of borders in JupyterLab.\n",
       "     */\n",
       "  \n",
       "    --jp-border-width: 1px!important;\n",
       "    --jp-border-color0: var(--md-grey-700)!important;\n",
       "    --jp-border-color1: var(--md-grey-700)!important;\n",
       "    --jp-border-color2: var(--md-grey-800)!important;\n",
       "    --jp-border-color3: var(--md-grey-900)!important;\n",
       "    --jp-border-radius: 2px!important;\n",
       "  \n",
       "    /* UI Fonts\n",
       "     *\n",
       "     * The UI font CSS variables are used for the typography all of the JupyterLab\n",
       "     * user interface elements that are not directly user generated content.\n",
       "     *\n",
       "     * The font sizing here is done assuming that the body font size of --jp-ui-font-size1\n",
       "     * is applied to a parent element. When children elements, such as headings, are sized\n",
       "     * in em all things will be computed relative to that body size.\n",
       "     */\n",
       "  \n",
       "    --jp-ui-font-scale-factor: 1.2!important;\n",
       "    --jp-ui-font-size0: 0.83333em!important;\n",
       "    --jp-ui-font-size1: 13px!important; /* Base font size */\n",
       "    --jp-ui-font-size2: 1.2em!important;\n",
       "    --jp-ui-font-size3: 1.44em!important;\n",
       "  \n",
       "    --jp-ui-font-family: -apple-system, BlinkMacSystemFont, 'Segoe UI', Helvetica,\n",
       "      Arial, sans-serif, 'Apple Color Emoji', 'Segoe UI Emoji', 'Segoe UI Symbol'!important;\n",
       "  \n",
       "    /*\n",
       "     * Use these font colors against the corresponding main layout colors.\n",
       "     * In a light theme, these go from dark to light.\n",
       "     */\n",
       "  \n",
       "    /* Defaults use Material Design specification */\n",
       "    --jp-ui-font-color0: rgba(255, 255, 255, 1)!important;\n",
       "    --jp-ui-font-color1: rgba(255, 255, 255, 0.87)!important;\n",
       "    --jp-ui-font-color2: rgba(255, 255, 255, 0.54)!important;\n",
       "    --jp-ui-font-color3: rgba(255, 255, 255, 0.38)!important;\n",
       "  \n",
       "    /*\n",
       "     * Use these against the brand/accent/warn/error colors.\n",
       "     * These will typically go from light to darker, in both a dark and light theme.\n",
       "     */\n",
       "  \n",
       "    --jp-ui-inverse-font-color0: rgb(44, 43, 43)!important;\n",
       "    --jp-ui-inverse-font-color1: rgba(0, 0, 0, 0.8)!important;\n",
       "    --jp-ui-inverse-font-color2: rgba(0, 0, 0, 0.5)!important;\n",
       "    --jp-ui-inverse-font-color3: rgba(0, 0, 0, 0.3)!important;\n",
       "  \n",
       "    /* Content Fonts\n",
       "     *\n",
       "     * Content font variables are used for typography of user generated content.\n",
       "     *\n",
       "     * The font sizing here is done assuming that the body font size of --jp-content-font-size1\n",
       "     * is applied to a parent element. When children elements, such as headings, are sized\n",
       "     * in em all things will be computed relative to that body size.\n",
       "     */\n",
       "  \n",
       "    --jp-content-line-height: 1.6!important;\n",
       "    --jp-content-font-scale-factor: 1.2!important;\n",
       "    --jp-content-font-size0: 0.83333em!important;\n",
       "    --jp-content-font-size1: 14px!important; /* Base font size */\n",
       "    --jp-content-font-size2: 1.2em!important;\n",
       "    --jp-content-font-size3: 1.44em!important;\n",
       "    --jp-content-font-size4: 1.728em!important;\n",
       "    --jp-content-font-size5: 2.0736em!important;\n",
       "  \n",
       "    /* This gives a magnification of about 125% in presentation mode over normal. */\n",
       "    --jp-content-presentation-font-size1: 17px!important;\n",
       "  \n",
       "    --jp-content-heading-line-height: 1!important;\n",
       "    --jp-content-heading-margin-top: 1.2em!important;\n",
       "    --jp-content-heading-margin-bottom: 0.8em!important;\n",
       "    --jp-content-heading-font-weight: 500!important;\n",
       "  \n",
       "    /* Defaults use Material Design specification */\n",
       "    --jp-content-font-color0: rgba(255, 255, 255, 1)!important;\n",
       "    --jp-content-font-color1: rgba(255, 255, 255, 1)!important;\n",
       "    --jp-content-font-color2: rgba(255, 255, 255, 0.7)!important;\n",
       "    --jp-content-font-color3: rgba(255, 255, 255, 0.5)!important;\n",
       "  \n",
       "    --jp-content-link-color: var(--md-blue-300)!important;\n",
       "  \n",
       "    --jp-content-font-family: -apple-system, BlinkMacSystemFont, 'Segoe UI',\n",
       "      Helvetica, Arial, sans-serif, 'Apple Color Emoji', 'Segoe UI Emoji',\n",
       "      'Segoe UI Symbol'!important;\n",
       "  \n",
       "    /*\n",
       "     * Code Fonts\n",
       "     *\n",
       "     * Code font variables are used for typography of code and other monospaces content.\n",
       "     */\n",
       "  \n",
       "    --jp-code-font-size: 13px!important;\n",
       "    --jp-code-line-height: 1.3077!important; /* 17px for 13px base */\n",
       "    --jp-code-padding: 5px!important; /* 5px for 13px base, codemirror highlighting needs integer px value */\n",
       "    --jp-code-font-family-default: Menlo, Consolas, 'DejaVu Sans Mono', monospace!important;\n",
       "    --jp-code-font-family: var(--jp-code-font-family-default)!important;\n",
       "  \n",
       "    /* This gives a magnification of about 125% in presentation mode over normal. */\n",
       "    --jp-code-presentation-font-size: 16px!important;\n",
       "  \n",
       "    /* may need to tweak cursor width if you change font size */\n",
       "    --jp-code-cursor-width0: 1.4px!important;\n",
       "    --jp-code-cursor-width1: 2px!important;\n",
       "    --jp-code-cursor-width2: 4px!important;\n",
       "  \n",
       "    /* Layout\n",
       "     *\n",
       "     * The following are the main layout colors use in JupyterLab. In a light\n",
       "     * theme these would go from light to dark.\n",
       "     */\n",
       "  \n",
       "    --jp-layout-color0: #111111!important;\n",
       "    --jp-layout-color1: var(--md-grey-900)!important;\n",
       "    --jp-layout-color2: var(--md-grey-800)!important;\n",
       "    --jp-layout-color3: var(--md-grey-700)!important;\n",
       "    --jp-layout-color4: var(--md-grey-600)!important;\n",
       "  \n",
       "    /* Inverse Layout\n",
       "     *\n",
       "     * The following are the inverse layout colors use in JupyterLab. In a light\n",
       "     * theme these would go from dark to light.\n",
       "     */\n",
       "  \n",
       "    --jp-inverse-layout-color0: white!important;\n",
       "    --jp-inverse-layout-color1: white!important;\n",
       "    --jp-inverse-layout-color2: var(--md-grey-200)!important;\n",
       "    --jp-inverse-layout-color3: var(--md-grey-400)!important;\n",
       "    --jp-inverse-layout-color4: var(--md-grey-600)!important;\n",
       "  \n",
       "    /* Brand/accent */\n",
       "  \n",
       "    --jp-brand-color0: var(--md-blue-700)!important;\n",
       "    --jp-brand-color1: var(--md-blue-500)!important;\n",
       "    --jp-brand-color2: var(--md-blue-300)!important;\n",
       "    --jp-brand-color3: var(--md-blue-100)!important;\n",
       "    --jp-brand-color4: var(--md-blue-50)!important;\n",
       "  \n",
       "    --jp-accent-color0: var(--md-green-700)!important;\n",
       "    --jp-accent-color1: var(--md-green-500)!important;\n",
       "    --jp-accent-color2: var(--md-green-300)!important;\n",
       "    --jp-accent-color3: var(--md-green-100)!important;\n",
       "  \n",
       "    /* State colors (warn, error, success, info) */\n",
       "  \n",
       "    --jp-warn-color0: var(--md-orange-700)!important;\n",
       "    --jp-warn-color1: var(--md-orange-500)!important;\n",
       "    --jp-warn-color2: var(--md-orange-300)!important;\n",
       "    --jp-warn-color3: var(--md-orange-100)!important;\n",
       "  \n",
       "    --jp-error-color0: var(--md-red-700)!important;\n",
       "    --jp-error-color1: var(--md-red-500)!important;\n",
       "    --jp-error-color2: var(--md-red-300)!important;\n",
       "    --jp-error-color3: var(--md-red-100)!important;\n",
       "  \n",
       "    --jp-success-color0: var(--md-green-700)!important;\n",
       "    --jp-success-color1: var(--md-green-500)!important;\n",
       "    --jp-success-color2: var(--md-green-300)!important;\n",
       "    --jp-success-color3: var(--md-green-100)!important;\n",
       "  \n",
       "    --jp-info-color0: var(--md-cyan-700)!important;\n",
       "    --jp-info-color1: var(--md-cyan-500)!important;\n",
       "    --jp-info-color2: var(--md-cyan-300)!important;\n",
       "    --jp-info-color3: var(--md-cyan-100)!important;\n",
       "  \n",
       "    /* Cell specific styles */\n",
       "  \n",
       "    --jp-cell-padding: 5px!important;\n",
       "  \n",
       "    --jp-cell-collapser-width: 8px!important;\n",
       "    --jp-cell-collapser-min-height: 20px!important;\n",
       "    --jp-cell-collapser-not-active-hover-opacity: 0.6!important;\n",
       "  \n",
       "    --jp-cell-editor-background: var(--jp-layout-color1)!important;\n",
       "    --jp-cell-editor-border-color: var(--md-grey-700)!important;\n",
       "    --jp-cell-editor-box-shadow: inset 0 0 2px var(--md-blue-300)!important;\n",
       "    --jp-cell-editor-active-background: var(--jp-layout-color0)!important;\n",
       "    --jp-cell-editor-active-border-color: var(--jp-brand-color1)!important;\n",
       "  \n",
       "    --jp-cell-prompt-width: 64px!important;\n",
       "    --jp-cell-prompt-font-family: var(--jp-code-font-family-default)!important;\n",
       "    --jp-cell-prompt-letter-spacing: 0px!important;\n",
       "    --jp-cell-prompt-opacity: 1!important;\n",
       "    --jp-cell-prompt-not-active-opacity: 1!important;\n",
       "    --jp-cell-prompt-not-active-font-color: var(--md-grey-300)!important;\n",
       "  \n",
       "    /* A custom blend of MD grey and blue 600\n",
       "     * See https://meyerweb.com/eric/tools/color-blend/#546E7A:1E88E5:5:hex */\n",
       "    --jp-cell-inprompt-font-color: #307fc1!important;\n",
       "    /* A custom blend of MD grey and orange 600\n",
       "     * https://meyerweb.com/eric/tools/color-blend/#546E7A:F4511E:5:hex */\n",
       "    --jp-cell-outprompt-font-color: #bf5b3d!important;\n",
       "  \n",
       "    /* Notebook specific styles */\n",
       "  \n",
       "    --jp-notebook-padding: 10px!important;\n",
       "    --jp-notebook-select-background: var(--jp-layout-color1)!important;\n",
       "    --jp-notebook-multiselected-color: rgba(33, 150, 243, 0.24)!important;\n",
       "  \n",
       "    /* The scroll padding is calculated to fill enough space at the bottom of the\n",
       "    notebook to show one single-line cell (with appropriate padding) at the top\n",
       "    when the notebook is scrolled all the way to the bottom. We also subtract one\n",
       "    pixel so that no scrollbar appears if we have just one single-line cell in the\n",
       "    notebook. This padding is to enable a 'scroll past end' feature in a notebook.\n",
       "    */\n",
       "    --jp-notebook-scroll-padding: calc(\n",
       "      100% - var(--jp-code-font-size) * var(--jp-code-line-height) -\n",
       "        var(--jp-code-padding) - var(--jp-cell-padding) - 1px\n",
       "    )!important;\n",
       "  \n",
       "    /* Rendermime styles */\n",
       "  \n",
       "    --jp-rendermime-error-background: rgba(244, 67, 54, 0.28)!important;\n",
       "    --jp-rendermime-table-row-background: var(--md-grey-900)!important;\n",
       "    --jp-rendermime-table-row-hover-background: rgba(3, 169, 244, 0.2)!important;\n",
       "  \n",
       "    /* Dialog specific styles */\n",
       "  \n",
       "    --jp-dialog-background: rgba(0, 0, 0, 0.6)!important;\n",
       "  \n",
       "    /* Console specific styles */\n",
       "  \n",
       "    --jp-console-padding: 10px!important;\n",
       "  \n",
       "    /* Toolbar specific styles */\n",
       "  \n",
       "    --jp-toolbar-border-color: var(--jp-border-color2)!important;\n",
       "    --jp-toolbar-micro-height: 8px!important;\n",
       "    --jp-toolbar-background: var(--jp-layout-color1)!important;\n",
       "    --jp-toolbar-box-shadow: 0px 0px 2px 0px rgba(0, 0, 0, 0.8)!important;\n",
       "    --jp-toolbar-header-margin: 4px 4px 0px 4px!important;\n",
       "    --jp-toolbar-active-background: var(--jp-layout-color0)!important;\n",
       "  \n",
       "    /* Input field styles */\n",
       "  \n",
       "    --jp-input-box-shadow: inset 0 0 2px var(--md-blue-300)!important;\n",
       "    --jp-input-active-background: var(--jp-layout-color0)!important;\n",
       "    --jp-input-hover-background: var(--jp-layout-color2)!important;\n",
       "    --jp-input-background: var(--md-grey-800)!important;\n",
       "    --jp-input-border-color: var(--jp-border-color1)!important;\n",
       "    --jp-input-active-border-color: var(--jp-brand-color1)!important;\n",
       "    --jp-input-active-box-shadow-color: rgba(19, 124, 189, 0.3)!important;\n",
       "  \n",
       "    /* General editor styles */\n",
       "  \n",
       "    --jp-editor-selected-background: var(--jp-layout-color2)!important;\n",
       "    --jp-editor-selected-focused-background: rgba(33, 150, 243, 0.24)!important;\n",
       "    --jp-editor-cursor-color: var(--jp-ui-font-color0)!important;\n",
       "  \n",
       "    /* Code mirror specific styles */\n",
       "  \n",
       "    --jp-mirror-editor-keyword-color: #fcfa81!important;\n",
       "    --jp-mirror-editor-atom-color: var(--md-blue-300)!important;\n",
       "    --jp-mirror-editor-number-color: #9c81fc!important;\n",
       "    --jp-mirror-editor-def-color: var(--md-blue-600)!important;\n",
       "    --jp-mirror-editor-variable-color: #00e0fd!important;\n",
       "    --jp-mirror-editor-variable-2-color: var(--md-blue-400)!important;\n",
       "    --jp-mirror-editor-variable-3-color: var(--md-green-600)!important;\n",
       "    --jp-mirror-editor-punctuation-color: var(--md-blue-400)!important;\n",
       "    --jp-mirror-editor-property-color: #7afff2!important;\n",
       "    --jp-mirror-editor-operator-color: #aa22ff!important;\n",
       "    --jp-mirror-editor-comment-color: #03b85d!important;\n",
       "    --jp-mirror-editor-string-color: #ee81fc!important;\n",
       "    --jp-mirror-editor-string-2-color: var(--md-purple-300)!important;\n",
       "    --jp-mirror-editor-meta-color: #aa22ff!important;\n",
       "    --jp-mirror-editor-qualifier-color: #555!important;\n",
       "    --jp-mirror-editor-builtin-color: #fcfa81!important;\n",
       "    --jp-mirror-editor-bracket-color: rgb(255, 0, 0)!important;\n",
       "    --jp-mirror-editor-tag-color: var(--md-green-700)!important;\n",
       "    --jp-mirror-editor-attribute-color: var(--md-blue-700)!important;\n",
       "    --jp-mirror-editor-header-color: var(--md-blue-500)!important;\n",
       "    --jp-mirror-editor-quote-color: var(--md-green-300)!important;\n",
       "    --jp-mirror-editor-link-color: var(--md-blue-700)!important;\n",
       "    --jp-mirror-editor-error-color: #f00!important;\n",
       "    --jp-mirror-editor-hr-color: #999!important;\n",
       "  \n",
       "    /* Vega extension styles */\n",
       "  \n",
       "    --jp-vega-background: var(--md-grey-400)!important;\n",
       "  \n",
       "    /* Sidebar-related styles */\n",
       "  \n",
       "    --jp-sidebar-min-width: 250px!important;\n",
       "  \n",
       "    /* Search-related styles */\n",
       "  \n",
       "    --jp-search-toggle-off-opacity: 0.6!important;\n",
       "    --jp-search-toggle-hover-opacity: 0.8!important;\n",
       "    --jp-search-toggle-on-opacity: 1!important;\n",
       "    --jp-search-selected-match-background-color: rgb(255, 225, 0)!important;\n",
       "    --jp-search-selected-match-color: black!important;\n",
       "    --jp-search-unselected-match-background-color: var(\n",
       "      --jp-inverse-layout-color0\n",
       "    )!important;\n",
       "    --jp-search-unselected-match-color: var(--jp-ui-inverse-font-color0)!important;\n",
       "  \n",
       "    /* scrollbar related styles. Supports every browser except Edge. */\n",
       "  \n",
       "    /* colors based on JetBrain's Darcula theme */\n",
       "  \n",
       "    --jp-scrollbar-background-color: #3f4244!important;\n",
       "    --jp-scrollbar-thumb-color: 88, 96, 97!important; /* need to specify thumb color as an RGB triplet */\n",
       "  \n",
       "    --jp-scrollbar-endpad: 3px!important; /* the minimum gap between the thumb and the ends of a scrollbar */\n",
       "  \n",
       "    /* hacks for setting the thumb shape. These do nothing in Firefox */\n",
       "  \n",
       "    --jp-scrollbar-thumb-margin: 3.5px!important; /* the space in between the sides of the thumb and the track */\n",
       "    --jp-scrollbar-thumb-radius: 9px!important; /* set to a large-ish value for rounded endcaps on the thumb */\n",
       "  \n",
       "    /* Icon colors that work well with light or dark backgrounds */\n",
       "    --jp-icon-contrast-color0: var(--md-purple-600)!important;\n",
       "    --jp-icon-contrast-color1: var(--md-green-600)!important;\n",
       "    --jp-icon-contrast-color2: var(--md-pink-600)!important;\n",
       "    --jp-icon-contrast-color3: var(--md-blue-600)!important;\n",
       "  }\n",
       "  \n",
       "  /*-----------------------------------------------------------------------------\n",
       "  | Copyright (c) Jupyter Development Team.\n",
       "  | Distributed under the terms of the Modified BSD License.\n",
       "  |----------------------------------------------------------------------------*/\n",
       "  \n",
       "  /* Set the default typography for monospace elements */\n",
       "  tt,\n",
       "  code,\n",
       "  kbd,\n",
       "  samp,\n",
       "  pre {\n",
       "    font-family: var(--jp-code-font-family)!important;\n",
       "    font-size: var(--jp-code-font-size)!important;\n",
       "    line-height: var(--jp-code-line-height)!important;\n",
       "  }\n",
       "  \n",
       "  /*-----------------------------------------------------------------------------\n",
       "  | Copyright (c) Jupyter Development Team.\n",
       "  | Distributed under the terms of the Modified BSD License.\n",
       "  |----------------------------------------------------------------------------*/\n",
       "  \n",
       "  /* This file was auto-generated by ensurePackage() in @jupyterlab/buildutils */</style>Customized changes loaded"
      ],
      "text/plain": [
       "<IPython.core.display.HTML object>"
      ]
     },
     "metadata": {},
     "output_type": "display_data"
    }
   ],
   "source": [
    "from IPython.display import display, HTML\n",
    "\n",
    "with open(r\"C:\\Users\\Admin\\Documents\\Repos\\Jupyter_Lab_Theme.css\") as f:\n",
    "    css = f.read().replace(';', '!important;')\n",
    "display(HTML('<style type=\"text/css\">%s</style>Customized changes loaded'%css))"
   ]
  },
  {
   "cell_type": "code",
   "execution_count": 4,
   "metadata": {
    "colab": {},
    "colab_type": "code",
    "id": "N-qiINBQSK2g"
   },
   "outputs": [],
   "source": [
    "import numpy as np\n",
    "import matplotlib.pyplot as plt\n",
    "import pandas as pd"
   ]
  },
  {
   "cell_type": "markdown",
   "metadata": {
    "colab_type": "text",
    "id": "RopL7tUZSQkT"
   },
   "source": [
    "## Importing the dataset"
   ]
  },
  {
   "cell_type": "code",
   "execution_count": 5,
   "metadata": {
    "colab": {},
    "colab_type": "code",
    "id": "WwEPNDWySTKm"
   },
   "outputs": [],
   "source": [
    "dataset = pd.read_csv('Data.csv')\n",
    "X = dataset.iloc[:, :-1].values\n",
    "y = dataset.iloc[:, -1].values"
   ]
  },
  {
   "cell_type": "code",
   "execution_count": 6,
   "metadata": {
    "colab": {
     "base_uri": "https://localhost:8080/",
     "height": 188
    },
    "colab_type": "code",
    "executionInfo": {
     "elapsed": 895,
     "status": "ok",
     "timestamp": 1587622253093,
     "user": {
      "displayName": "Hadelin de Ponteves",
      "photoUrl": "https://lh3.googleusercontent.com/a-/AOh14GhEuXdT7eQweUmRPW8_laJuPggSK6hfvpl5a6WBaA=s64",
      "userId": "15047218817161520419"
     },
     "user_tz": -240
    },
    "id": "hCsz2yCebe1R",
    "outputId": "1e4cc568-4e51-4b38-9d46-4aa3f15204be"
   },
   "outputs": [
    {
     "name": "stdout",
     "output_type": "stream",
     "text": [
      "[['France' 44.0 72000.0]\n",
      " ['Spain' 27.0 48000.0]\n",
      " ['Germany' 30.0 54000.0]\n",
      " ['Spain' 38.0 61000.0]\n",
      " ['Germany' 40.0 nan]\n",
      " ['France' 35.0 58000.0]\n",
      " ['Spain' nan 52000.0]\n",
      " ['France' 48.0 79000.0]\n",
      " ['Germany' 50.0 83000.0]\n",
      " ['France' 37.0 67000.0]]\n"
     ]
    }
   ],
   "source": [
    "print(X)"
   ]
  },
  {
   "cell_type": "code",
   "execution_count": 7,
   "metadata": {
    "colab": {
     "base_uri": "https://localhost:8080/",
     "height": 34
    },
    "colab_type": "code",
    "executionInfo": {
     "elapsed": 656,
     "status": "ok",
     "timestamp": 1587622256072,
     "user": {
      "displayName": "Hadelin de Ponteves",
      "photoUrl": "https://lh3.googleusercontent.com/a-/AOh14GhEuXdT7eQweUmRPW8_laJuPggSK6hfvpl5a6WBaA=s64",
      "userId": "15047218817161520419"
     },
     "user_tz": -240
    },
    "id": "eYrOQ43XcJR3",
    "outputId": "e0873b2a-3b08-4bab-ef0d-15b88858ca44"
   },
   "outputs": [
    {
     "name": "stdout",
     "output_type": "stream",
     "text": [
      "['No' 'Yes' 'No' 'No' 'Yes' 'Yes' 'No' 'Yes' 'No' 'Yes']\n"
     ]
    }
   ],
   "source": [
    "print(y)"
   ]
  },
  {
   "cell_type": "markdown",
   "metadata": {
    "colab_type": "text",
    "id": "nhfKXNxlSabC"
   },
   "source": [
    "## Taking care of missing data"
   ]
  },
  {
   "cell_type": "code",
   "execution_count": null,
   "metadata": {
    "colab": {},
    "colab_type": "code",
    "id": "c93k7ipkSexq"
   },
   "outputs": [],
   "source": [
    "from sklearn.impute import SimpleImputer\n",
    "imputer = SimpleImputer(missing_values=np.nan, strategy='mean')\n",
    "imputer.fit(X[:, 1:3])\n",
    "X[:, 1:3] = imputer.transform(X[:, 1:3])"
   ]
  },
  {
   "cell_type": "code",
   "execution_count": 6,
   "metadata": {
    "colab": {
     "base_uri": "https://localhost:8080/",
     "height": 188
    },
    "colab_type": "code",
    "executionInfo": {
     "elapsed": 919,
     "status": "ok",
     "timestamp": 1587622284427,
     "user": {
      "displayName": "Hadelin de Ponteves",
      "photoUrl": "https://lh3.googleusercontent.com/a-/AOh14GhEuXdT7eQweUmRPW8_laJuPggSK6hfvpl5a6WBaA=s64",
      "userId": "15047218817161520419"
     },
     "user_tz": -240
    },
    "id": "3UgLdMS_bjq_",
    "outputId": "254af4e0-681e-47f5-aaa7-b9c6f43258e9"
   },
   "outputs": [
    {
     "name": "stdout",
     "output_type": "stream",
     "text": [
      "[['France' 44.0 72000.0]\n",
      " ['Spain' 27.0 48000.0]\n",
      " ['Germany' 30.0 54000.0]\n",
      " ['Spain' 38.0 61000.0]\n",
      " ['Germany' 40.0 63777.77777777778]\n",
      " ['France' 35.0 58000.0]\n",
      " ['Spain' 38.77777777777778 52000.0]\n",
      " ['France' 48.0 79000.0]\n",
      " ['Germany' 50.0 83000.0]\n",
      " ['France' 37.0 67000.0]]\n"
     ]
    }
   ],
   "source": [
    "print(X)"
   ]
  },
  {
   "cell_type": "markdown",
   "metadata": {
    "colab_type": "text",
    "id": "CriG6VzVSjcK"
   },
   "source": [
    "## Encoding categorical data"
   ]
  },
  {
   "cell_type": "markdown",
   "metadata": {
    "colab_type": "text",
    "id": "AhSpdQWeSsFh"
   },
   "source": [
    "### Encoding the Independent Variable"
   ]
  },
  {
   "cell_type": "code",
   "execution_count": null,
   "metadata": {
    "colab": {},
    "colab_type": "code",
    "id": "5hwuVddlSwVi"
   },
   "outputs": [],
   "source": [
    "from sklearn.compose import ColumnTransformer\n",
    "from sklearn.preprocessing import OneHotEncoder\n",
    "ct = ColumnTransformer(transformers=[('encoder', OneHotEncoder(), [0])], remainder='passthrough')\n",
    "X = np.array(ct.fit_transform(X))"
   ]
  },
  {
   "cell_type": "code",
   "execution_count": 8,
   "metadata": {
    "colab": {
     "base_uri": "https://localhost:8080/",
     "height": 188
    },
    "colab_type": "code",
    "executionInfo": {
     "elapsed": 570,
     "status": "ok",
     "timestamp": 1587622291650,
     "user": {
      "displayName": "Hadelin de Ponteves",
      "photoUrl": "https://lh3.googleusercontent.com/a-/AOh14GhEuXdT7eQweUmRPW8_laJuPggSK6hfvpl5a6WBaA=s64",
      "userId": "15047218817161520419"
     },
     "user_tz": -240
    },
    "id": "f7QspewyeBfx",
    "outputId": "5b35feef-7fe2-46ef-ce70-80495f94f4ed"
   },
   "outputs": [
    {
     "name": "stdout",
     "output_type": "stream",
     "text": [
      "[[1.0 0.0 0.0 44.0 72000.0]\n",
      " [0.0 0.0 1.0 27.0 48000.0]\n",
      " [0.0 1.0 0.0 30.0 54000.0]\n",
      " [0.0 0.0 1.0 38.0 61000.0]\n",
      " [0.0 1.0 0.0 40.0 63777.77777777778]\n",
      " [1.0 0.0 0.0 35.0 58000.0]\n",
      " [0.0 0.0 1.0 38.77777777777778 52000.0]\n",
      " [1.0 0.0 0.0 48.0 79000.0]\n",
      " [0.0 1.0 0.0 50.0 83000.0]\n",
      " [1.0 0.0 0.0 37.0 67000.0]]\n"
     ]
    }
   ],
   "source": [
    "print(X)"
   ]
  },
  {
   "cell_type": "markdown",
   "metadata": {
    "colab_type": "text",
    "id": "DXh8oVSITIc6"
   },
   "source": [
    "### Encoding the Dependent Variable"
   ]
  },
  {
   "cell_type": "code",
   "execution_count": null,
   "metadata": {
    "colab": {},
    "colab_type": "code",
    "id": "XgHCShVyTOYY"
   },
   "outputs": [],
   "source": [
    "from sklearn.preprocessing import LabelEncoder\n",
    "le = LabelEncoder()\n",
    "y = le.fit_transform(y)"
   ]
  },
  {
   "cell_type": "code",
   "execution_count": 10,
   "metadata": {
    "colab": {
     "base_uri": "https://localhost:8080/",
     "height": 34
    },
    "colab_type": "code",
    "executionInfo": {
     "elapsed": 657,
     "status": "ok",
     "timestamp": 1587622297024,
     "user": {
      "displayName": "Hadelin de Ponteves",
      "photoUrl": "https://lh3.googleusercontent.com/a-/AOh14GhEuXdT7eQweUmRPW8_laJuPggSK6hfvpl5a6WBaA=s64",
      "userId": "15047218817161520419"
     },
     "user_tz": -240
    },
    "id": "FyhY8-gPpFCa",
    "outputId": "7f76ef29-5423-4c3e-cf69-45fbc366a997"
   },
   "outputs": [
    {
     "name": "stdout",
     "output_type": "stream",
     "text": [
      "[0 1 0 0 1 1 0 1 0 1]\n"
     ]
    }
   ],
   "source": [
    "print(y)"
   ]
  },
  {
   "cell_type": "markdown",
   "metadata": {
    "colab_type": "text",
    "id": "qb_vcgm3qZKW"
   },
   "source": [
    "## Splitting the dataset into the Training set and Test set"
   ]
  },
  {
   "cell_type": "code",
   "execution_count": null,
   "metadata": {
    "colab": {},
    "colab_type": "code",
    "id": "pXgA6CzlqbCl"
   },
   "outputs": [],
   "source": [
    "from sklearn.model_selection import train_test_split\n",
    "X_train, X_test, y_train, y_test = train_test_split(X, y, test_size = 0.2, random_state = 1)"
   ]
  },
  {
   "cell_type": "code",
   "execution_count": 12,
   "metadata": {
    "colab": {
     "base_uri": "https://localhost:8080/",
     "height": 154
    },
    "colab_type": "code",
    "executionInfo": {
     "elapsed": 597,
     "status": "ok",
     "timestamp": 1587622301522,
     "user": {
      "displayName": "Hadelin de Ponteves",
      "photoUrl": "https://lh3.googleusercontent.com/a-/AOh14GhEuXdT7eQweUmRPW8_laJuPggSK6hfvpl5a6WBaA=s64",
      "userId": "15047218817161520419"
     },
     "user_tz": -240
    },
    "id": "GuwQhFdKrYTM",
    "outputId": "de1e527f-c229-4daf-e7c5-ea9d2485148d"
   },
   "outputs": [
    {
     "name": "stdout",
     "output_type": "stream",
     "text": [
      "[[0.0 0.0 1.0 38.77777777777778 52000.0]\n",
      " [0.0 1.0 0.0 40.0 63777.77777777778]\n",
      " [1.0 0.0 0.0 44.0 72000.0]\n",
      " [0.0 0.0 1.0 38.0 61000.0]\n",
      " [0.0 0.0 1.0 27.0 48000.0]\n",
      " [1.0 0.0 0.0 48.0 79000.0]\n",
      " [0.0 1.0 0.0 50.0 83000.0]\n",
      " [1.0 0.0 0.0 35.0 58000.0]]\n"
     ]
    }
   ],
   "source": [
    "print(X_train)"
   ]
  },
  {
   "cell_type": "code",
   "execution_count": 13,
   "metadata": {
    "colab": {
     "base_uri": "https://localhost:8080/",
     "height": 51
    },
    "colab_type": "code",
    "executionInfo": {
     "elapsed": 835,
     "status": "ok",
     "timestamp": 1587622305066,
     "user": {
      "displayName": "Hadelin de Ponteves",
      "photoUrl": "https://lh3.googleusercontent.com/a-/AOh14GhEuXdT7eQweUmRPW8_laJuPggSK6hfvpl5a6WBaA=s64",
      "userId": "15047218817161520419"
     },
     "user_tz": -240
    },
    "id": "TUrX_Tvcrbi4",
    "outputId": "9a041a9b-2642-4828-fa2f-a431d7d77631"
   },
   "outputs": [
    {
     "name": "stdout",
     "output_type": "stream",
     "text": [
      "[[0.0 1.0 0.0 30.0 54000.0]\n",
      " [1.0 0.0 0.0 37.0 67000.0]]\n"
     ]
    }
   ],
   "source": [
    "print(X_test)"
   ]
  },
  {
   "cell_type": "code",
   "execution_count": 14,
   "metadata": {
    "colab": {
     "base_uri": "https://localhost:8080/",
     "height": 34
    },
    "colab_type": "code",
    "executionInfo": {
     "elapsed": 536,
     "status": "ok",
     "timestamp": 1587622306938,
     "user": {
      "displayName": "Hadelin de Ponteves",
      "photoUrl": "https://lh3.googleusercontent.com/a-/AOh14GhEuXdT7eQweUmRPW8_laJuPggSK6hfvpl5a6WBaA=s64",
      "userId": "15047218817161520419"
     },
     "user_tz": -240
    },
    "id": "pSMHiIsWreQY",
    "outputId": "5afe91e0-9244-4bf5-ec1b-e3e092b85c08"
   },
   "outputs": [
    {
     "name": "stdout",
     "output_type": "stream",
     "text": [
      "[0 1 0 0 1 1 0 1]\n"
     ]
    }
   ],
   "source": [
    "print(y_train)"
   ]
  },
  {
   "cell_type": "code",
   "execution_count": 15,
   "metadata": {
    "colab": {
     "base_uri": "https://localhost:8080/",
     "height": 34
    },
    "colab_type": "code",
    "executionInfo": {
     "elapsed": 828,
     "status": "ok",
     "timestamp": 1587622309210,
     "user": {
      "displayName": "Hadelin de Ponteves",
      "photoUrl": "https://lh3.googleusercontent.com/a-/AOh14GhEuXdT7eQweUmRPW8_laJuPggSK6hfvpl5a6WBaA=s64",
      "userId": "15047218817161520419"
     },
     "user_tz": -240
    },
    "id": "I_tW7H56rgtW",
    "outputId": "2a93f141-2a99-4a69-eec5-c82a3bb8d36b"
   },
   "outputs": [
    {
     "name": "stdout",
     "output_type": "stream",
     "text": [
      "[0 1]\n"
     ]
    }
   ],
   "source": [
    "print(y_test)"
   ]
  },
  {
   "cell_type": "markdown",
   "metadata": {
    "colab_type": "text",
    "id": "TpGqbS4TqkIR"
   },
   "source": [
    "## Feature Scaling"
   ]
  },
  {
   "cell_type": "code",
   "execution_count": null,
   "metadata": {
    "colab": {},
    "colab_type": "code",
    "id": "AxjSUXFQqo-3"
   },
   "outputs": [],
   "source": [
    "from sklearn.preprocessing import StandardScaler\n",
    "sc = StandardScaler()\n",
    "X_train[:, 3:] = sc.fit_transform(X_train[:, 3:])\n",
    "X_test[:, 3:] = sc.transform(X_test[:, 3:])"
   ]
  },
  {
   "cell_type": "code",
   "execution_count": 17,
   "metadata": {
    "colab": {
     "base_uri": "https://localhost:8080/",
     "height": 154
    },
    "colab_type": "code",
    "executionInfo": {
     "elapsed": 767,
     "status": "ok",
     "timestamp": 1587622313752,
     "user": {
      "displayName": "Hadelin de Ponteves",
      "photoUrl": "https://lh3.googleusercontent.com/a-/AOh14GhEuXdT7eQweUmRPW8_laJuPggSK6hfvpl5a6WBaA=s64",
      "userId": "15047218817161520419"
     },
     "user_tz": -240
    },
    "id": "DWPET8ZdlMnu",
    "outputId": "dea86927-5124-4e2a-e974-2804df9a913c"
   },
   "outputs": [
    {
     "name": "stdout",
     "output_type": "stream",
     "text": [
      "[[0.0 0.0 1.0 -0.19159184384578545 -1.0781259408412425]\n",
      " [0.0 1.0 0.0 -0.014117293757057777 -0.07013167641635372]\n",
      " [1.0 0.0 0.0 0.566708506533324 0.633562432710455]\n",
      " [0.0 0.0 1.0 -0.30453019390224867 -0.30786617274297867]\n",
      " [0.0 0.0 1.0 -1.9018011447007988 -1.420463615551582]\n",
      " [1.0 0.0 0.0 1.1475343068237058 1.232653363453549]\n",
      " [0.0 1.0 0.0 1.4379472069688968 1.5749910381638885]\n",
      " [1.0 0.0 0.0 -0.7401495441200351 -0.5646194287757332]]\n"
     ]
    }
   ],
   "source": [
    "print(X_train)"
   ]
  },
  {
   "cell_type": "code",
   "execution_count": 18,
   "metadata": {
    "colab": {
     "base_uri": "https://localhost:8080/",
     "height": 51
    },
    "colab_type": "code",
    "executionInfo": {
     "elapsed": 506,
     "status": "ok",
     "timestamp": 1587622315942,
     "user": {
      "displayName": "Hadelin de Ponteves",
      "photoUrl": "https://lh3.googleusercontent.com/a-/AOh14GhEuXdT7eQweUmRPW8_laJuPggSK6hfvpl5a6WBaA=s64",
      "userId": "15047218817161520419"
     },
     "user_tz": -240
    },
    "id": "sTXykB_QlRjE",
    "outputId": "b68f0cfc-d07c-48cb-80d0-6800028c41f9"
   },
   "outputs": [
    {
     "name": "stdout",
     "output_type": "stream",
     "text": [
      "[[0.0 1.0 0.0 -1.4661817944830124 -0.9069571034860727]\n",
      " [1.0 0.0 0.0 -0.44973664397484414 0.2056403393225306]]\n"
     ]
    }
   ],
   "source": [
    "print(X_test)"
   ]
  }
 ],
 "metadata": {
  "colab": {
   "authorship_tag": "ABX9TyNxDRfLvKVBN9HjXcmlURF3",
   "collapsed_sections": [],
   "name": "data_preprocessing_tools.ipynb",
   "provenance": [],
   "toc_visible": true
  },
  "kernelspec": {
   "display_name": "Python 3",
   "language": "python",
   "name": "python3"
  },
  "language_info": {
   "codemirror_mode": {
    "name": "ipython",
    "version": 3
   },
   "file_extension": ".py",
   "mimetype": "text/x-python",
   "name": "python",
   "nbconvert_exporter": "python",
   "pygments_lexer": "ipython3",
   "version": "3.7.4"
  }
 },
 "nbformat": 4,
 "nbformat_minor": 4
}
